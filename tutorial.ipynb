{
 "cells": [
  {
   "cell_type": "markdown",
   "metadata": {},
   "source": [
    "### Demonstrate usage of pyRipser"
   ]
  },
  {
   "cell_type": "markdown",
   "metadata": {},
   "source": [
    "pyRipser is a python wrapper to the Ripser library for computing Vietoris-Rips persistence barcodes. \n",
    "\n",
    "For the library to work correctly, either \"ripser\" executable should be on the system path or the path to ripser has to be provided."
   ]
  },
  {
   "cell_type": "code",
   "execution_count": 1,
   "metadata": {},
   "outputs": [],
   "source": [
    "import numpy as np\n",
    "from pyRipser import Ripser"
   ]
  },
  {
   "cell_type": "markdown",
   "metadata": {},
   "source": [
    "#### Generate data for testing\n",
    "\n",
    "We first generate a list of numpy arrays which will be our input distance matrices "
   ]
  },
  {
   "cell_type": "code",
   "execution_count": 2,
   "metadata": {},
   "outputs": [],
   "source": [
    "def generate_dist_matrix(n):\n",
    "    # generate uniform random square matrix of size n\n",
    "    mat = np.random.uniform(size=(n, n))\n",
    "    \n",
    "    # make it symmetric\n",
    "    mat_symm = (mat + mat.T) / 2\n",
    "    \n",
    "    # set diagonal indices to 1\n",
    "    diag_indices = np.arange(len(mat))\n",
    "    mat_symm[diag_indices, diag_indices] = 1\n",
    "    \n",
    "    return mat_symm\n",
    "\n",
    "distance_mat_size = 100\n",
    "num_matrices = 20\n",
    "\n",
    "data = [generate_dist_matrix(distance_mat_size) for i in range(num_matrices)]"
   ]
  },
  {
   "cell_type": "markdown",
   "metadata": {},
   "source": [
    "#### Set up the Ripser instance\n",
    "Presently the code requires the path to the `ripser` executable to be provided. The folder contains pre-built executables for Linux (Ubuntu 16.04) and Windows 10.\n",
    "\n",
    "`Ripser` class takes two arguments - the path of the binary and the dimensions upto which the barcode is computed."
   ]
  },
  {
   "cell_type": "code",
   "execution_count": 3,
   "metadata": {},
   "outputs": [
    {
     "data": {
      "application/vnd.jupyter.widget-view+json": {
       "model_id": "7f2e12b1ad914f34b6138fa6533d88bb",
       "version_major": 2,
       "version_minor": 0
      },
      "text/plain": [
       "HBox(children=(IntProgress(value=0, description='Serializing to disk', max=20), HTML(value='')))"
      ]
     },
     "metadata": {},
     "output_type": "display_data"
    },
    {
     "name": "stdout",
     "output_type": "stream",
     "text": [
      "\n"
     ]
    },
    {
     "data": {
      "application/vnd.jupyter.widget-view+json": {
       "model_id": "f1ca66172d15446494bf39da50fd0c6f",
       "version_major": 2,
       "version_minor": 0
      },
      "text/plain": [
       "HBox(children=(IntProgress(value=0, description='Running Ripser', max=20), HTML(value='')))"
      ]
     },
     "metadata": {},
     "output_type": "display_data"
    },
    {
     "name": "stdout",
     "output_type": "stream",
     "text": [
      "\n"
     ]
    }
   ],
   "source": [
    "ripser = Ripser('./ripser', dim=1)\n",
    "pers_diags = ripser.compute_pd(data)"
   ]
  },
  {
   "cell_type": "markdown",
   "metadata": {},
   "source": [
    "#### Visualize the persistence diagram"
   ]
  },
  {
   "cell_type": "code",
   "execution_count": 4,
   "metadata": {},
   "outputs": [
    {
     "data": {
      "image/png": "[encoded data removed]",
      "text/plain": [
       "<matplotlib.figure.Figure at 0x7f4c0a5b9dd8>"
      ]
     },
     "metadata": {},
     "output_type": "display_data"
    }
   ],
   "source": [
    "pers_diags[0].show_diagram()"
   ]
  }
 ],
 "metadata": {
  "kernelspec": {
   "display_name": "Python 3",
   "language": "python",
   "name": "python3"
  },
  "language_info": {
   "codemirror_mode": {
    "name": "ipython",
    "version": 3
   },
   "file_extension": ".py",
   "mimetype": "text/x-python",
   "name": "python",
   "nbconvert_exporter": "python",
   "pygments_lexer": "ipython3",
   "version": "3.6.4"
  }
 },
 "nbformat": 4,
 "nbformat_minor": 2
}
